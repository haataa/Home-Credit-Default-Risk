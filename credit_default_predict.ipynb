{
 "cells": [
  {
   "cell_type": "markdown",
   "metadata": {},
   "source": [
    "# Introduction"
   ]
  },
  {
   "cell_type": "markdown",
   "metadata": {},
   "source": [
    "# Read Data"
   ]
  },
  {
   "cell_type": "code",
   "execution_count": 2,
   "metadata": {},
   "outputs": [],
   "source": [
    "# import packages\n",
    "import numpy as np\n",
    "import pandas as pd\n",
    "import matplotlib.pyplot as plt\n",
    "%matplotlib inline\n",
    "import seaborn as sns"
   ]
  },
  {
   "cell_type": "code",
   "execution_count": 7,
   "metadata": {},
   "outputs": [],
   "source": [
    "# read in data and check basic info\n",
    "def read_check_data(file_path):\n",
    "    data = pd.read_csv(file_path)\n",
    "    print('Training data shape: ', data.shape)\n",
    "    print(data.head())\n",
    "    return data"
   ]
  },
  {
   "cell_type": "code",
   "execution_count": 8,
   "metadata": {},
   "outputs": [
    {
     "name": "stdout",
     "output_type": "stream",
     "text": [
      "Training data shape:  (307511, 122)\n",
      "   SK_ID_CURR  TARGET NAME_CONTRACT_TYPE CODE_GENDER FLAG_OWN_CAR  \\\n",
      "0      100002       1         Cash loans           M            N   \n",
      "1      100003       0         Cash loans           F            N   \n",
      "2      100004       0    Revolving loans           M            Y   \n",
      "3      100006       0         Cash loans           F            N   \n",
      "4      100007       0         Cash loans           M            N   \n",
      "\n",
      "  FLAG_OWN_REALTY  CNT_CHILDREN  AMT_INCOME_TOTAL  AMT_CREDIT  AMT_ANNUITY  \\\n",
      "0               Y             0          202500.0    406597.5      24700.5   \n",
      "1               N             0          270000.0   1293502.5      35698.5   \n",
      "2               Y             0           67500.0    135000.0       6750.0   \n",
      "3               Y             0          135000.0    312682.5      29686.5   \n",
      "4               Y             0          121500.0    513000.0      21865.5   \n",
      "\n",
      "              ...              FLAG_DOCUMENT_18 FLAG_DOCUMENT_19  \\\n",
      "0             ...                             0                0   \n",
      "1             ...                             0                0   \n",
      "2             ...                             0                0   \n",
      "3             ...                             0                0   \n",
      "4             ...                             0                0   \n",
      "\n",
      "  FLAG_DOCUMENT_20 FLAG_DOCUMENT_21 AMT_REQ_CREDIT_BUREAU_HOUR  \\\n",
      "0                0                0                        0.0   \n",
      "1                0                0                        0.0   \n",
      "2                0                0                        0.0   \n",
      "3                0                0                        NaN   \n",
      "4                0                0                        0.0   \n",
      "\n",
      "  AMT_REQ_CREDIT_BUREAU_DAY  AMT_REQ_CREDIT_BUREAU_WEEK  \\\n",
      "0                       0.0                         0.0   \n",
      "1                       0.0                         0.0   \n",
      "2                       0.0                         0.0   \n",
      "3                       NaN                         NaN   \n",
      "4                       0.0                         0.0   \n",
      "\n",
      "   AMT_REQ_CREDIT_BUREAU_MON  AMT_REQ_CREDIT_BUREAU_QRT  \\\n",
      "0                        0.0                        0.0   \n",
      "1                        0.0                        0.0   \n",
      "2                        0.0                        0.0   \n",
      "3                        NaN                        NaN   \n",
      "4                        0.0                        0.0   \n",
      "\n",
      "   AMT_REQ_CREDIT_BUREAU_YEAR  \n",
      "0                         1.0  \n",
      "1                         0.0  \n",
      "2                         0.0  \n",
      "3                         NaN  \n",
      "4                         0.0  \n",
      "\n",
      "[5 rows x 122 columns]\n"
     ]
    }
   ],
   "source": [
    "app_train = read_check_data(\"./data/application_train.csv\")"
   ]
  },
  {
   "cell_type": "code",
   "execution_count": 9,
   "metadata": {},
   "outputs": [
    {
     "name": "stdout",
     "output_type": "stream",
     "text": [
      "Training data shape:  (10001358, 8)\n",
      "   SK_ID_PREV  SK_ID_CURR  MONTHS_BALANCE  CNT_INSTALMENT  \\\n",
      "0     1803195      182943             -31            48.0   \n",
      "1     1715348      367990             -33            36.0   \n",
      "2     1784872      397406             -32            12.0   \n",
      "3     1903291      269225             -35            48.0   \n",
      "4     2341044      334279             -35            36.0   \n",
      "\n",
      "   CNT_INSTALMENT_FUTURE NAME_CONTRACT_STATUS  SK_DPD  SK_DPD_DEF  \n",
      "0                   45.0               Active       0           0  \n",
      "1                   35.0               Active       0           0  \n",
      "2                    9.0               Active       0           0  \n",
      "3                   42.0               Active       0           0  \n",
      "4                   35.0               Active       0           0  \n"
     ]
    }
   ],
   "source": [
    "POS_CASH_balance = read_check_data(\"./data/POS_CASH_balance.csv\")"
   ]
  },
  {
   "cell_type": "code",
   "execution_count": 11,
   "metadata": {},
   "outputs": [
    {
     "name": "stdout",
     "output_type": "stream",
     "text": [
      "Training data shape:  (27299925, 3)\n",
      "   SK_ID_BUREAU  MONTHS_BALANCE STATUS\n",
      "0       5715448               0      C\n",
      "1       5715448              -1      C\n",
      "2       5715448              -2      C\n",
      "3       5715448              -3      C\n",
      "4       5715448              -4      C\n"
     ]
    }
   ],
   "source": [
    "bureau_balance = read_check_data(\"./data/bureau_balance.csv\")"
   ]
  },
  {
   "cell_type": "code",
   "execution_count": 13,
   "metadata": {},
   "outputs": [
    {
     "name": "stdout",
     "output_type": "stream",
     "text": [
      "Training data shape:  (1670214, 37)\n",
      "   SK_ID_PREV  SK_ID_CURR NAME_CONTRACT_TYPE  AMT_ANNUITY  AMT_APPLICATION  \\\n",
      "0     2030495      271877     Consumer loans     1730.430          17145.0   \n",
      "1     2802425      108129         Cash loans    25188.615         607500.0   \n",
      "2     2523466      122040         Cash loans    15060.735         112500.0   \n",
      "3     2819243      176158         Cash loans    47041.335         450000.0   \n",
      "4     1784265      202054         Cash loans    31924.395         337500.0   \n",
      "\n",
      "   AMT_CREDIT  AMT_DOWN_PAYMENT  AMT_GOODS_PRICE WEEKDAY_APPR_PROCESS_START  \\\n",
      "0     17145.0               0.0          17145.0                   SATURDAY   \n",
      "1    679671.0               NaN         607500.0                   THURSDAY   \n",
      "2    136444.5               NaN         112500.0                    TUESDAY   \n",
      "3    470790.0               NaN         450000.0                     MONDAY   \n",
      "4    404055.0               NaN         337500.0                   THURSDAY   \n",
      "\n",
      "   HOUR_APPR_PROCESS_START            ...            NAME_SELLER_INDUSTRY  \\\n",
      "0                       15            ...                    Connectivity   \n",
      "1                       11            ...                             XNA   \n",
      "2                       11            ...                             XNA   \n",
      "3                        7            ...                             XNA   \n",
      "4                        9            ...                             XNA   \n",
      "\n",
      "   CNT_PAYMENT  NAME_YIELD_GROUP       PRODUCT_COMBINATION  \\\n",
      "0         12.0            middle  POS mobile with interest   \n",
      "1         36.0        low_action          Cash X-Sell: low   \n",
      "2         12.0              high         Cash X-Sell: high   \n",
      "3         12.0            middle       Cash X-Sell: middle   \n",
      "4         24.0              high         Cash Street: high   \n",
      "\n",
      "   DAYS_FIRST_DRAWING DAYS_FIRST_DUE DAYS_LAST_DUE_1ST_VERSION  DAYS_LAST_DUE  \\\n",
      "0            365243.0          -42.0                     300.0          -42.0   \n",
      "1            365243.0         -134.0                     916.0       365243.0   \n",
      "2            365243.0         -271.0                      59.0       365243.0   \n",
      "3            365243.0         -482.0                    -152.0         -182.0   \n",
      "4                 NaN            NaN                       NaN            NaN   \n",
      "\n",
      "  DAYS_TERMINATION NFLAG_INSURED_ON_APPROVAL  \n",
      "0            -37.0                       0.0  \n",
      "1         365243.0                       1.0  \n",
      "2         365243.0                       1.0  \n",
      "3           -177.0                       1.0  \n",
      "4              NaN                       NaN  \n",
      "\n",
      "[5 rows x 37 columns]\n"
     ]
    }
   ],
   "source": [
    "previous_application = read_check_data(\"./data/previous_application.csv\")"
   ]
  },
  {
   "cell_type": "code",
   "execution_count": 14,
   "metadata": {},
   "outputs": [
    {
     "name": "stdout",
     "output_type": "stream",
     "text": [
      "Training data shape:  (1670214, 37)\n",
      "   SK_ID_PREV  SK_ID_CURR NAME_CONTRACT_TYPE  AMT_ANNUITY  AMT_APPLICATION  \\\n",
      "0     2030495      271877     Consumer loans     1730.430          17145.0   \n",
      "1     2802425      108129         Cash loans    25188.615         607500.0   \n",
      "2     2523466      122040         Cash loans    15060.735         112500.0   \n",
      "3     2819243      176158         Cash loans    47041.335         450000.0   \n",
      "4     1784265      202054         Cash loans    31924.395         337500.0   \n",
      "\n",
      "   AMT_CREDIT  AMT_DOWN_PAYMENT  AMT_GOODS_PRICE WEEKDAY_APPR_PROCESS_START  \\\n",
      "0     17145.0               0.0          17145.0                   SATURDAY   \n",
      "1    679671.0               NaN         607500.0                   THURSDAY   \n",
      "2    136444.5               NaN         112500.0                    TUESDAY   \n",
      "3    470790.0               NaN         450000.0                     MONDAY   \n",
      "4    404055.0               NaN         337500.0                   THURSDAY   \n",
      "\n",
      "   HOUR_APPR_PROCESS_START            ...            NAME_SELLER_INDUSTRY  \\\n",
      "0                       15            ...                    Connectivity   \n",
      "1                       11            ...                             XNA   \n",
      "2                       11            ...                             XNA   \n",
      "3                        7            ...                             XNA   \n",
      "4                        9            ...                             XNA   \n",
      "\n",
      "   CNT_PAYMENT  NAME_YIELD_GROUP       PRODUCT_COMBINATION  \\\n",
      "0         12.0            middle  POS mobile with interest   \n",
      "1         36.0        low_action          Cash X-Sell: low   \n",
      "2         12.0              high         Cash X-Sell: high   \n",
      "3         12.0            middle       Cash X-Sell: middle   \n",
      "4         24.0              high         Cash Street: high   \n",
      "\n",
      "   DAYS_FIRST_DRAWING DAYS_FIRST_DUE DAYS_LAST_DUE_1ST_VERSION  DAYS_LAST_DUE  \\\n",
      "0            365243.0          -42.0                     300.0          -42.0   \n",
      "1            365243.0         -134.0                     916.0       365243.0   \n",
      "2            365243.0         -271.0                      59.0       365243.0   \n",
      "3            365243.0         -482.0                    -152.0         -182.0   \n",
      "4                 NaN            NaN                       NaN            NaN   \n",
      "\n",
      "  DAYS_TERMINATION NFLAG_INSURED_ON_APPROVAL  \n",
      "0            -37.0                       0.0  \n",
      "1         365243.0                       1.0  \n",
      "2         365243.0                       1.0  \n",
      "3           -177.0                       1.0  \n",
      "4              NaN                       NaN  \n",
      "\n",
      "[5 rows x 37 columns]\n"
     ]
    }
   ],
   "source": [
    "credit_card_balance = read_check_data(\"./data/previous_application.csv\")"
   ]
  },
  {
   "cell_type": "code",
   "execution_count": 16,
   "metadata": {},
   "outputs": [
    {
     "name": "stdout",
     "output_type": "stream",
     "text": [
      "Training data shape:  (1716428, 17)\n",
      "   SK_ID_CURR  SK_ID_BUREAU CREDIT_ACTIVE CREDIT_CURRENCY  DAYS_CREDIT  \\\n",
      "0      215354       5714462        Closed      currency 1         -497   \n",
      "1      215354       5714463        Active      currency 1         -208   \n",
      "2      215354       5714464        Active      currency 1         -203   \n",
      "3      215354       5714465        Active      currency 1         -203   \n",
      "4      215354       5714466        Active      currency 1         -629   \n",
      "\n",
      "   CREDIT_DAY_OVERDUE  DAYS_CREDIT_ENDDATE  DAYS_ENDDATE_FACT  \\\n",
      "0                   0               -153.0             -153.0   \n",
      "1                   0               1075.0                NaN   \n",
      "2                   0                528.0                NaN   \n",
      "3                   0                  NaN                NaN   \n",
      "4                   0               1197.0                NaN   \n",
      "\n",
      "   AMT_CREDIT_MAX_OVERDUE  CNT_CREDIT_PROLONG  AMT_CREDIT_SUM  \\\n",
      "0                     NaN                   0         91323.0   \n",
      "1                     NaN                   0        225000.0   \n",
      "2                     NaN                   0        464323.5   \n",
      "3                     NaN                   0         90000.0   \n",
      "4                 77674.5                   0       2700000.0   \n",
      "\n",
      "   AMT_CREDIT_SUM_DEBT  AMT_CREDIT_SUM_LIMIT  AMT_CREDIT_SUM_OVERDUE  \\\n",
      "0                  0.0                   NaN                     0.0   \n",
      "1             171342.0                   NaN                     0.0   \n",
      "2                  NaN                   NaN                     0.0   \n",
      "3                  NaN                   NaN                     0.0   \n",
      "4                  NaN                   NaN                     0.0   \n",
      "\n",
      "       CREDIT_TYPE  DAYS_CREDIT_UPDATE  AMT_ANNUITY  \n",
      "0  Consumer credit                -131          NaN  \n",
      "1      Credit card                 -20          NaN  \n",
      "2  Consumer credit                 -16          NaN  \n",
      "3      Credit card                 -16          NaN  \n",
      "4  Consumer credit                 -21          NaN  \n"
     ]
    }
   ],
   "source": [
    "bureau = read_check_data(\"./data/bureau.csv\")"
   ]
  },
  {
   "cell_type": "markdown",
   "metadata": {},
   "source": [
    "# Check Missing Values"
   ]
  },
  {
   "cell_type": "code",
   "execution_count": 74,
   "metadata": {},
   "outputs": [],
   "source": [
    "def check_missing_col(df):\n",
    "    missing_num = df.isnull().sum().sort_values(ascending = False)\n",
    "    minssing_percent = (df.isnull().mean()*100).sort_values(ascending = False)\n",
    "    missing_info  = pd.concat([missing_num, minssing_percent], axis=1, keys=['missing_num', 'minssing_percent'])\n",
    "    print(missing_info.head())\n",
    "    return missing_info"
   ]
  },
  {
   "cell_type": "code",
   "execution_count": 77,
   "metadata": {},
   "outputs": [],
   "source": [
    "def check_missing_row(df):\n",
    "    missing_num = df.isnull().sum(axis=1).sort_values(ascending = False)\n",
    "    minssing_percent = (df.isnull().mean(axis=1)*100).sort_values(ascending = False)\n",
    "    missing_info  = pd.concat([missing_num, minssing_percent], axis=1, keys=['missing_num', 'minssing_percent'])\n",
    "    print(missing_info.head())\n",
    "    return missing_info"
   ]
  },
  {
   "cell_type": "code",
   "execution_count": 64,
   "metadata": {},
   "outputs": [],
   "source": [
    "def missing_hist(missing_info):\n",
    "    plt.hist(missing_info.minssing_percent)\n",
    "    print(missing_info.describe())"
   ]
  },
  {
   "cell_type": "code",
   "execution_count": 81,
   "metadata": {},
   "outputs": [
    {
     "name": "stdout",
     "output_type": "stream",
     "text": [
      "                          missing_num  minssing_percent\n",
      "COMMONAREA_MEDI                214865         69.872297\n",
      "COMMONAREA_AVG                 214865         69.872297\n",
      "COMMONAREA_MODE                214865         69.872297\n",
      "NONLIVINGAPARTMENTS_MODE       213514         69.432963\n",
      "NONLIVINGAPARTMENTS_MEDI       213514         69.432963\n",
      "         missing_num  minssing_percent\n",
      "count     122.000000        122.000000\n",
      "mean    75020.204918         24.395942\n",
      "std     87476.136655         28.446507\n",
      "min         0.000000          0.000000\n",
      "25%         0.000000          0.000000\n",
      "50%      1021.000000          0.332021\n",
      "75%    156271.000000         50.818020\n",
      "max    214865.000000         69.872297\n"
     ]
    },
    {
     "data": {
      "image/png": "[encoded data removed]",
      "text/plain": [
       "<Figure size 432x288 with 1 Axes>"
      ]
     },
     "metadata": {},
     "output_type": "display_data"
    }
   ],
   "source": [
    "# check missing value of app_train\n",
    "miss_app_train = check_missing_col(app_train)\n",
    "missing_hist(miss_app_train)"
   ]
  },
  {
   "cell_type": "code",
   "execution_count": 82,
   "metadata": {},
   "outputs": [
    {
     "name": "stdout",
     "output_type": "stream",
     "text": [
      "        missing_num  minssing_percent\n",
      "133770           61              50.0\n",
      "244833           61              50.0\n",
      "150206           61              50.0\n",
      "69707            61              50.0\n",
      "269786           61              50.0\n",
      "         missing_num  minssing_percent\n",
      "count  307511.000000     307511.000000\n",
      "mean       29.763049         24.395942\n",
      "std        20.919345         17.147004\n",
      "min         0.000000          0.000000\n",
      "25%         5.000000          4.098361\n",
      "50%        36.000000         29.508197\n",
      "75%        49.000000         40.163934\n",
      "max        61.000000         50.000000\n"
     ]
    },
    {
     "data": {
      "image/png": "[encoded data removed]",
      "text/plain": [
       "<Figure size 432x288 with 1 Axes>"
      ]
     },
     "metadata": {},
     "output_type": "display_data"
    }
   ],
   "source": [
    "missing_hist(check_missing_row(app_train))"
   ]
  },
  {
   "cell_type": "code",
   "execution_count": 83,
   "metadata": {},
   "outputs": [
    {
     "name": "stdout",
     "output_type": "stream",
     "text": [
      "                       missing_num  minssing_percent\n",
      "CNT_INSTALMENT_FUTURE        26087          0.260835\n",
      "CNT_INSTALMENT               26071          0.260675\n",
      "SK_DPD_DEF                       0          0.000000\n",
      "SK_DPD                           0          0.000000\n",
      "NAME_CONTRACT_STATUS             0          0.000000\n",
      "        missing_num  minssing_percent\n",
      "count      8.000000          8.000000\n",
      "mean    6519.750000          0.065189\n",
      "std    12072.231948          0.120706\n",
      "min        0.000000          0.000000\n",
      "25%        0.000000          0.000000\n",
      "50%        0.000000          0.000000\n",
      "75%     6517.750000          0.065169\n",
      "max    26087.000000          0.260835\n"
     ]
    },
    {
     "data": {
      "image/png": "[encoded data removed]",
      "text/plain": [
       "<Figure size 432x288 with 1 Axes>"
      ]
     },
     "metadata": {},
     "output_type": "display_data"
    }
   ],
   "source": [
    "# check missing value of POS_CASH_balance\n",
    "miss_POS_CASH = check_missing_col(POS_CASH_balance)\n",
    "missing_hist(miss_POS_CASH)"
   ]
  },
  {
   "cell_type": "code",
   "execution_count": 84,
   "metadata": {},
   "outputs": [
    {
     "name": "stdout",
     "output_type": "stream",
     "text": [
      "         missing_num  minssing_percent\n",
      "8095302            2              25.0\n",
      "6099819            2              25.0\n",
      "7188626            2              25.0\n",
      "7188625            2              25.0\n",
      "5799073            2              25.0\n",
      "        missing_num  minssing_percent\n",
      "count  1.000136e+07      1.000136e+07\n",
      "mean   5.215092e-03      6.518865e-02\n",
      "std    1.018921e-01      1.273651e+00\n",
      "min    0.000000e+00      0.000000e+00\n",
      "25%    0.000000e+00      0.000000e+00\n",
      "50%    0.000000e+00      0.000000e+00\n",
      "75%    0.000000e+00      0.000000e+00\n",
      "max    2.000000e+00      2.500000e+01\n"
     ]
    },
    {
     "data": {
      "image/png": "[encoded data removed]",
      "text/plain": [
       "<Figure size 432x288 with 1 Axes>"
      ]
     },
     "metadata": {},
     "output_type": "display_data"
    }
   ],
   "source": [
    "missing_hist(check_missing_row(POS_CASH_balance))"
   ]
  },
  {
   "cell_type": "code",
   "execution_count": 67,
   "metadata": {},
   "outputs": [
    {
     "name": "stdout",
     "output_type": "stream",
     "text": [
      "                missing_num  minssing_percent\n",
      "STATUS                    0               0.0\n",
      "MONTHS_BALANCE            0               0.0\n",
      "SK_ID_BUREAU              0               0.0\n",
      "       missing_num  minssing_percent\n",
      "count          3.0               3.0\n",
      "mean           0.0               0.0\n",
      "std            0.0               0.0\n",
      "min            0.0               0.0\n",
      "25%            0.0               0.0\n",
      "50%            0.0               0.0\n",
      "75%            0.0               0.0\n",
      "max            0.0               0.0\n"
     ]
    },
    {
     "data": {
      "image/png": "[encoded data removed]",
      "text/plain": [
       "<Figure size 432x288 with 1 Axes>"
      ]
     },
     "metadata": {},
     "output_type": "display_data"
    }
   ],
   "source": [
    "miss_bureau_balance = check_missing_col(bureau_balance)\n",
    "missing_hist(miss_bureau_balance)"
   ]
  },
  {
   "cell_type": "code",
   "execution_count": 85,
   "metadata": {},
   "outputs": [
    {
     "name": "stdout",
     "output_type": "stream",
     "text": [
      "          missing_num  minssing_percent\n",
      "27299924            0               0.0\n",
      "9099834             0               0.0\n",
      "9099966             0               0.0\n",
      "9099967             0               0.0\n",
      "9099968             0               0.0\n",
      "       missing_num  minssing_percent\n",
      "count   27299925.0        27299925.0\n",
      "mean           0.0               0.0\n",
      "std            0.0               0.0\n",
      "min            0.0               0.0\n",
      "25%            0.0               0.0\n",
      "50%            0.0               0.0\n",
      "75%            0.0               0.0\n",
      "max            0.0               0.0\n"
     ]
    },
    {
     "data": {
      "image/png": "[encoded data removed]",
      "text/plain": [
       "<Figure size 432x288 with 1 Axes>"
      ]
     },
     "metadata": {},
     "output_type": "display_data"
    }
   ],
   "source": [
    "missing_hist(check_missing_row(bureau_balance))"
   ]
  },
  {
   "cell_type": "code",
   "execution_count": 68,
   "metadata": {},
   "outputs": [
    {
     "name": "stdout",
     "output_type": "stream",
     "text": [
      "                          missing_num  minssing_percent\n",
      "RATE_INTEREST_PRIVILEGED      1664263         99.643698\n",
      "RATE_INTEREST_PRIMARY         1664263         99.643698\n",
      "RATE_DOWN_PAYMENT              895844         53.636480\n",
      "AMT_DOWN_PAYMENT               895844         53.636480\n",
      "NAME_TYPE_SUITE                820405         49.119754\n",
      "        missing_num  minssing_percent\n",
      "count  3.700000e+01         37.000000\n",
      "mean   3.002523e+05         17.976877\n",
      "std    4.602509e+05         27.556401\n",
      "min    0.000000e+00          0.000000\n",
      "25%    0.000000e+00          0.000000\n",
      "50%    0.000000e+00          0.000000\n",
      "75%    6.730650e+05         40.298129\n",
      "max    1.664263e+06         99.643698\n"
     ]
    },
    {
     "data": {
      "image/png": "[encoded data removed]",
      "text/plain": [
       "<Figure size 432x288 with 1 Axes>"
      ]
     },
     "metadata": {},
     "output_type": "display_data"
    }
   ],
   "source": [
    "#check_missing(previous_application)\n",
    "missing_hist(check_missing_col(previous_application))"
   ]
  },
  {
   "cell_type": "code",
   "execution_count": 86,
   "metadata": {},
   "outputs": [
    {
     "name": "stdout",
     "output_type": "stream",
     "text": [
      "        missing_num  minssing_percent\n",
      "402355           15         40.540541\n",
      "545870           15         40.540541\n",
      "24543            15         40.540541\n",
      "205845           15         40.540541\n",
      "366790           15         40.540541\n",
      "        missing_num  minssing_percent\n",
      "count  1.670214e+06      1.670214e+06\n",
      "mean   6.651445e+00      1.797688e+01\n",
      "std    4.648636e+00      1.256388e+01\n",
      "min    0.000000e+00      0.000000e+00\n",
      "25%    2.000000e+00      5.405405e+00\n",
      "50%    4.000000e+00      1.081081e+01\n",
      "75%    1.100000e+01      2.972973e+01\n",
      "max    1.500000e+01      4.054054e+01\n"
     ]
    },
    {
     "data": {
      "image/png": "[encoded data removed]",
      "text/plain": [
       "<Figure size 432x288 with 1 Axes>"
      ]
     },
     "metadata": {},
     "output_type": "display_data"
    }
   ],
   "source": [
    "missing_hist(check_missing_row(previous_application))"
   ]
  },
  {
   "cell_type": "code",
   "execution_count": 69,
   "metadata": {},
   "outputs": [
    {
     "name": "stdout",
     "output_type": "stream",
     "text": [
      "                          missing_num  minssing_percent\n",
      "RATE_INTEREST_PRIVILEGED      1664263         99.643698\n",
      "RATE_INTEREST_PRIMARY         1664263         99.643698\n",
      "RATE_DOWN_PAYMENT              895844         53.636480\n",
      "AMT_DOWN_PAYMENT               895844         53.636480\n",
      "NAME_TYPE_SUITE                820405         49.119754\n",
      "        missing_num  minssing_percent\n",
      "count  3.700000e+01         37.000000\n",
      "mean   3.002523e+05         17.976877\n",
      "std    4.602509e+05         27.556401\n",
      "min    0.000000e+00          0.000000\n",
      "25%    0.000000e+00          0.000000\n",
      "50%    0.000000e+00          0.000000\n",
      "75%    6.730650e+05         40.298129\n",
      "max    1.664263e+06         99.643698\n"
     ]
    },
    {
     "data": {
      "image/png": "[encoded data removed]",
      "text/plain": [
       "<Figure size 432x288 with 1 Axes>"
      ]
     },
     "metadata": {},
     "output_type": "display_data"
    }
   ],
   "source": [
    "#check_missing(credit_card_balance)\n",
    "missing_hist(check_missing_col(credit_card_balance))"
   ]
  },
  {
   "cell_type": "code",
   "execution_count": 87,
   "metadata": {},
   "outputs": [
    {
     "name": "stdout",
     "output_type": "stream",
     "text": [
      "        missing_num  minssing_percent\n",
      "402355           15         40.540541\n",
      "545870           15         40.540541\n",
      "24543            15         40.540541\n",
      "205845           15         40.540541\n",
      "366790           15         40.540541\n",
      "        missing_num  minssing_percent\n",
      "count  1.670214e+06      1.670214e+06\n",
      "mean   6.651445e+00      1.797688e+01\n",
      "std    4.648636e+00      1.256388e+01\n",
      "min    0.000000e+00      0.000000e+00\n",
      "25%    2.000000e+00      5.405405e+00\n",
      "50%    4.000000e+00      1.081081e+01\n",
      "75%    1.100000e+01      2.972973e+01\n",
      "max    1.500000e+01      4.054054e+01\n"
     ]
    },
    {
     "data": {
      "image/png": "[encoded data removed]",
      "text/plain": [
       "<Figure size 432x288 with 1 Axes>"
      ]
     },
     "metadata": {},
     "output_type": "display_data"
    }
   ],
   "source": [
    "missing_hist(check_missing_row(credit_card_balance))"
   ]
  },
  {
   "cell_type": "code",
   "execution_count": 70,
   "metadata": {},
   "outputs": [
    {
     "name": "stdout",
     "output_type": "stream",
     "text": [
      "                        missing_num  minssing_percent\n",
      "AMT_ANNUITY                 1226791         71.473490\n",
      "AMT_CREDIT_MAX_OVERDUE      1124488         65.513264\n",
      "DAYS_ENDDATE_FACT            633653         36.916958\n",
      "AMT_CREDIT_SUM_LIMIT         591780         34.477415\n",
      "AMT_CREDIT_SUM_DEBT          257669         15.011932\n",
      "        missing_num  minssing_percent\n",
      "count  1.700000e+01         17.000000\n",
      "mean   2.317616e+05         13.502552\n",
      "std    4.096962e+05         23.869116\n",
      "min    0.000000e+00          0.000000\n",
      "25%    0.000000e+00          0.000000\n",
      "50%    0.000000e+00          0.000000\n",
      "75%    2.576690e+05         15.011932\n",
      "max    1.226791e+06         71.473490\n"
     ]
    },
    {
     "data": {
      "image/png": "[encoded data removed]",
      "text/plain": [
       "<Figure size 432x288 with 1 Axes>"
      ]
     },
     "metadata": {},
     "output_type": "display_data"
    }
   ],
   "source": [
    "#check_missing(bureau)\n",
    "missing_hist(check_missing_col(bureau))"
   ]
  },
  {
   "cell_type": "code",
   "execution_count": 88,
   "metadata": {},
   "outputs": [
    {
     "name": "stdout",
     "output_type": "stream",
     "text": [
      "        missing_num  minssing_percent\n",
      "793046            6         35.294118\n",
      "773821            6         35.294118\n",
      "871866            6         35.294118\n",
      "468959            6         35.294118\n",
      "701505            6         35.294118\n",
      "        missing_num  minssing_percent\n",
      "count  1.716428e+06      1.716428e+06\n",
      "mean   2.295434e+00      1.350255e+01\n",
      "std    1.126084e+00      6.624026e+00\n",
      "min    0.000000e+00      0.000000e+00\n",
      "25%    1.000000e+00      5.882353e+00\n",
      "50%    2.000000e+00      1.176471e+01\n",
      "75%    3.000000e+00      1.764706e+01\n",
      "max    6.000000e+00      3.529412e+01\n"
     ]
    },
    {
     "data": {
      "image/png": "[encoded data removed]",
      "text/plain": [
       "<Figure size 432x288 with 1 Axes>"
      ]
     },
     "metadata": {},
     "output_type": "display_data"
    }
   ],
   "source": [
    "missing_hist(check_missing_row(bureau))"
   ]
  },
  {
   "cell_type": "markdown",
   "metadata": {},
   "source": [
    "# Select and Re-Encode Features"
   ]
  },
  {
   "cell_type": "code",
   "execution_count": 89,
   "metadata": {},
   "outputs": [],
   "source": [
    "def select_feature_type(df,data_type):\n",
    "    return df.select_dtypes(include=[data_type])"
   ]
  },
  {
   "cell_type": "code",
   "execution_count": 91,
   "metadata": {},
   "outputs": [],
   "source": [
    "def count_feature_type(df):\n",
    "    return df.dtypes.value_counts()"
   ]
  },
  {
   "cell_type": "code",
   "execution_count": 93,
   "metadata": {},
   "outputs": [],
   "source": [
    "def count_col_unique(df,data_type):\n",
    "    '''data_type could be object,category'''\n",
    "    return app_train.select_dtypes(data_type).apply(pd.Series.nunique, axis = 0)"
   ]
  },
  {
   "cell_type": "code",
   "execution_count": 92,
   "metadata": {},
   "outputs": [
    {
     "data": {
      "text/plain": [
       "float64    65\n",
       "int64      41\n",
       "object     16\n",
       "dtype: int64"
      ]
     },
     "execution_count": 92,
     "metadata": {},
     "output_type": "execute_result"
    }
   ],
   "source": [
    "count_feature_type(app_train)"
   ]
  },
  {
   "cell_type": "code",
   "execution_count": 94,
   "metadata": {},
   "outputs": [
    {
     "data": {
      "text/plain": [
       "NAME_CONTRACT_TYPE             2\n",
       "CODE_GENDER                    3\n",
       "FLAG_OWN_CAR                   2\n",
       "FLAG_OWN_REALTY                2\n",
       "NAME_TYPE_SUITE                7\n",
       "NAME_INCOME_TYPE               8\n",
       "NAME_EDUCATION_TYPE            5\n",
       "NAME_FAMILY_STATUS             6\n",
       "NAME_HOUSING_TYPE              6\n",
       "OCCUPATION_TYPE               18\n",
       "WEEKDAY_APPR_PROCESS_START     7\n",
       "ORGANIZATION_TYPE             58\n",
       "FONDKAPREMONT_MODE             4\n",
       "HOUSETYPE_MODE                 3\n",
       "WALLSMATERIAL_MODE             7\n",
       "EMERGENCYSTATE_MODE            2\n",
       "dtype: int64"
      ]
     },
     "execution_count": 94,
     "metadata": {},
     "output_type": "execute_result"
    }
   ],
   "source": [
    "count_col_unique(app_train,'object')"
   ]
  },
  {
   "cell_type": "code",
   "execution_count": 56,
   "metadata": {},
   "outputs": [
    {
     "data": {
      "text/plain": [
       "array(['M', 'F', 'XNA'], dtype=object)"
      ]
     },
     "execution_count": 56,
     "metadata": {},
     "output_type": "execute_result"
    }
   ],
   "source": [
    "app_train['CODE_GENDER'].unique()"
   ]
  },
  {
   "cell_type": "code",
   "execution_count": 57,
   "metadata": {},
   "outputs": [
    {
     "data": {
      "text/plain": [
       "Index(['SK_ID_CURR', 'TARGET', 'NAME_CONTRACT_TYPE', 'CODE_GENDER',\n",
       "       'FLAG_OWN_CAR', 'FLAG_OWN_REALTY', 'CNT_CHILDREN', 'AMT_INCOME_TOTAL',\n",
       "       'AMT_CREDIT', 'AMT_ANNUITY',\n",
       "       ...\n",
       "       'FLAG_DOCUMENT_18', 'FLAG_DOCUMENT_19', 'FLAG_DOCUMENT_20',\n",
       "       'FLAG_DOCUMENT_21', 'AMT_REQ_CREDIT_BUREAU_HOUR',\n",
       "       'AMT_REQ_CREDIT_BUREAU_DAY', 'AMT_REQ_CREDIT_BUREAU_WEEK',\n",
       "       'AMT_REQ_CREDIT_BUREAU_MON', 'AMT_REQ_CREDIT_BUREAU_QRT',\n",
       "       'AMT_REQ_CREDIT_BUREAU_YEAR'],\n",
       "      dtype='object', length=122)"
      ]
     },
     "execution_count": 57,
     "metadata": {},
     "output_type": "execute_result"
    }
   ],
   "source": [
    "app_train.columns"
   ]
  }
 ],
 "metadata": {
  "kernelspec": {
   "display_name": "Python 3",
   "language": "python",
   "name": "python3"
  },
  "language_info": {
   "codemirror_mode": {
    "name": "ipython",
    "version": 3
   },
   "file_extension": ".py",
   "mimetype": "text/x-python",
   "name": "python",
   "nbconvert_exporter": "python",
   "pygments_lexer": "ipython3",
   "version": "3.6.8"
  }
 },
 "nbformat": 4,
 "nbformat_minor": 2
}
