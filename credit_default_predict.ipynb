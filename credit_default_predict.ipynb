{
 "cells": [
  {
   "cell_type": "markdown",
   "metadata": {},
   "source": [
    "# Introduction"
   ]
  },
  {
   "cell_type": "markdown",
   "metadata": {},
   "source": [
    "# Read Data"
   ]
  },
  {
   "cell_type": "code",
   "execution_count": 2,
   "metadata": {},
   "outputs": [],
   "source": [
    "# import packages\n",
    "import numpy as np\n",
    "import pandas as pd\n",
    "import matplotlib.pyplot as plt\n",
    "%matplotlib inline\n",
    "import seaborn as sns"
   ]
  },
  {
   "cell_type": "code",
   "execution_count": 7,
   "metadata": {},
   "outputs": [],
   "source": [
    "# read in data and check basic info\n",
    "def read_check_data(file_path):\n",
    "    data = pd.read_csv(file_path)\n",
    "    print('Training data shape: ', data.shape)\n",
    "    print(data.head())\n",
    "    return data"
   ]
  },
  {
   "cell_type": "code",
   "execution_count": 8,
   "metadata": {},
   "outputs": [
    {
     "name": "stdout",
     "output_type": "stream",
     "text": [
      "Training data shape:  (307511, 122)\n",
      "   SK_ID_CURR  TARGET NAME_CONTRACT_TYPE CODE_GENDER FLAG_OWN_CAR  \\\n",
      "0      100002       1         Cash loans           M            N   \n",
      "1      100003       0         Cash loans           F            N   \n",
      "2      100004       0    Revolving loans           M            Y   \n",
      "3      100006       0         Cash loans           F            N   \n",
      "4      100007       0         Cash loans           M            N   \n",
      "\n",
      "  FLAG_OWN_REALTY  CNT_CHILDREN  AMT_INCOME_TOTAL  AMT_CREDIT  AMT_ANNUITY  \\\n",
      "0               Y             0          202500.0    406597.5      24700.5   \n",
      "1               N             0          270000.0   1293502.5      35698.5   \n",
      "2               Y             0           67500.0    135000.0       6750.0   \n",
      "3               Y             0          135000.0    312682.5      29686.5   \n",
      "4               Y             0          121500.0    513000.0      21865.5   \n",
      "\n",
      "              ...              FLAG_DOCUMENT_18 FLAG_DOCUMENT_19  \\\n",
      "0             ...                             0                0   \n",
      "1             ...                             0                0   \n",
      "2             ...                             0                0   \n",
      "3             ...                             0                0   \n",
      "4             ...                             0                0   \n",
      "\n",
      "  FLAG_DOCUMENT_20 FLAG_DOCUMENT_21 AMT_REQ_CREDIT_BUREAU_HOUR  \\\n",
      "0                0                0                        0.0   \n",
      "1                0                0                        0.0   \n",
      "2                0                0                        0.0   \n",
      "3                0                0                        NaN   \n",
      "4                0                0                        0.0   \n",
      "\n",
      "  AMT_REQ_CREDIT_BUREAU_DAY  AMT_REQ_CREDIT_BUREAU_WEEK  \\\n",
      "0                       0.0                         0.0   \n",
      "1                       0.0                         0.0   \n",
      "2                       0.0                         0.0   \n",
      "3                       NaN                         NaN   \n",
      "4                       0.0                         0.0   \n",
      "\n",
      "   AMT_REQ_CREDIT_BUREAU_MON  AMT_REQ_CREDIT_BUREAU_QRT  \\\n",
      "0                        0.0                        0.0   \n",
      "1                        0.0                        0.0   \n",
      "2                        0.0                        0.0   \n",
      "3                        NaN                        NaN   \n",
      "4                        0.0                        0.0   \n",
      "\n",
      "   AMT_REQ_CREDIT_BUREAU_YEAR  \n",
      "0                         1.0  \n",
      "1                         0.0  \n",
      "2                         0.0  \n",
      "3                         NaN  \n",
      "4                         0.0  \n",
      "\n",
      "[5 rows x 122 columns]\n"
     ]
    }
   ],
   "source": [
    "app_train = read_check_data(\"./data/application_train.csv\")"
   ]
  },
  {
   "cell_type": "code",
   "execution_count": 9,
   "metadata": {},
   "outputs": [
    {
     "name": "stdout",
     "output_type": "stream",
     "text": [
      "Training data shape:  (10001358, 8)\n",
      "   SK_ID_PREV  SK_ID_CURR  MONTHS_BALANCE  CNT_INSTALMENT  \\\n",
      "0     1803195      182943             -31            48.0   \n",
      "1     1715348      367990             -33            36.0   \n",
      "2     1784872      397406             -32            12.0   \n",
      "3     1903291      269225             -35            48.0   \n",
      "4     2341044      334279             -35            36.0   \n",
      "\n",
      "   CNT_INSTALMENT_FUTURE NAME_CONTRACT_STATUS  SK_DPD  SK_DPD_DEF  \n",
      "0                   45.0               Active       0           0  \n",
      "1                   35.0               Active       0           0  \n",
      "2                    9.0               Active       0           0  \n",
      "3                   42.0               Active       0           0  \n",
      "4                   35.0               Active       0           0  \n"
     ]
    }
   ],
   "source": [
    "POS_CASH_balance = read_check_data(\"./data/POS_CASH_balance.csv\")"
   ]
  },
  {
   "cell_type": "code",
   "execution_count": 11,
   "metadata": {},
   "outputs": [
    {
     "name": "stdout",
     "output_type": "stream",
     "text": [
      "Training data shape:  (27299925, 3)\n",
      "   SK_ID_BUREAU  MONTHS_BALANCE STATUS\n",
      "0       5715448               0      C\n",
      "1       5715448              -1      C\n",
      "2       5715448              -2      C\n",
      "3       5715448              -3      C\n",
      "4       5715448              -4      C\n"
     ]
    }
   ],
   "source": [
    "bureau_balance = read_check_data(\"./data/bureau_balance.csv\")"
   ]
  },
  {
   "cell_type": "code",
   "execution_count": 13,
   "metadata": {},
   "outputs": [
    {
     "name": "stdout",
     "output_type": "stream",
     "text": [
      "Training data shape:  (1670214, 37)\n",
      "   SK_ID_PREV  SK_ID_CURR NAME_CONTRACT_TYPE  AMT_ANNUITY  AMT_APPLICATION  \\\n",
      "0     2030495      271877     Consumer loans     1730.430          17145.0   \n",
      "1     2802425      108129         Cash loans    25188.615         607500.0   \n",
      "2     2523466      122040         Cash loans    15060.735         112500.0   \n",
      "3     2819243      176158         Cash loans    47041.335         450000.0   \n",
      "4     1784265      202054         Cash loans    31924.395         337500.0   \n",
      "\n",
      "   AMT_CREDIT  AMT_DOWN_PAYMENT  AMT_GOODS_PRICE WEEKDAY_APPR_PROCESS_START  \\\n",
      "0     17145.0               0.0          17145.0                   SATURDAY   \n",
      "1    679671.0               NaN         607500.0                   THURSDAY   \n",
      "2    136444.5               NaN         112500.0                    TUESDAY   \n",
      "3    470790.0               NaN         450000.0                     MONDAY   \n",
      "4    404055.0               NaN         337500.0                   THURSDAY   \n",
      "\n",
      "   HOUR_APPR_PROCESS_START            ...            NAME_SELLER_INDUSTRY  \\\n",
      "0                       15            ...                    Connectivity   \n",
      "1                       11            ...                             XNA   \n",
      "2                       11            ...                             XNA   \n",
      "3                        7            ...                             XNA   \n",
      "4                        9            ...                             XNA   \n",
      "\n",
      "   CNT_PAYMENT  NAME_YIELD_GROUP       PRODUCT_COMBINATION  \\\n",
      "0         12.0            middle  POS mobile with interest   \n",
      "1         36.0        low_action          Cash X-Sell: low   \n",
      "2         12.0              high         Cash X-Sell: high   \n",
      "3         12.0            middle       Cash X-Sell: middle   \n",
      "4         24.0              high         Cash Street: high   \n",
      "\n",
      "   DAYS_FIRST_DRAWING DAYS_FIRST_DUE DAYS_LAST_DUE_1ST_VERSION  DAYS_LAST_DUE  \\\n",
      "0            365243.0          -42.0                     300.0          -42.0   \n",
      "1            365243.0         -134.0                     916.0       365243.0   \n",
      "2            365243.0         -271.0                      59.0       365243.0   \n",
      "3            365243.0         -482.0                    -152.0         -182.0   \n",
      "4                 NaN            NaN                       NaN            NaN   \n",
      "\n",
      "  DAYS_TERMINATION NFLAG_INSURED_ON_APPROVAL  \n",
      "0            -37.0                       0.0  \n",
      "1         365243.0                       1.0  \n",
      "2         365243.0                       1.0  \n",
      "3           -177.0                       1.0  \n",
      "4              NaN                       NaN  \n",
      "\n",
      "[5 rows x 37 columns]\n"
     ]
    }
   ],
   "source": [
    "previous_application = read_check_data(\"./data/previous_application.csv\")"
   ]
  },
  {
   "cell_type": "code",
   "execution_count": 14,
   "metadata": {},
   "outputs": [
    {
     "name": "stdout",
     "output_type": "stream",
     "text": [
      "Training data shape:  (1670214, 37)\n",
      "   SK_ID_PREV  SK_ID_CURR NAME_CONTRACT_TYPE  AMT_ANNUITY  AMT_APPLICATION  \\\n",
      "0     2030495      271877     Consumer loans     1730.430          17145.0   \n",
      "1     2802425      108129         Cash loans    25188.615         607500.0   \n",
      "2     2523466      122040         Cash loans    15060.735         112500.0   \n",
      "3     2819243      176158         Cash loans    47041.335         450000.0   \n",
      "4     1784265      202054         Cash loans    31924.395         337500.0   \n",
      "\n",
      "   AMT_CREDIT  AMT_DOWN_PAYMENT  AMT_GOODS_PRICE WEEKDAY_APPR_PROCESS_START  \\\n",
      "0     17145.0               0.0          17145.0                   SATURDAY   \n",
      "1    679671.0               NaN         607500.0                   THURSDAY   \n",
      "2    136444.5               NaN         112500.0                    TUESDAY   \n",
      "3    470790.0               NaN         450000.0                     MONDAY   \n",
      "4    404055.0               NaN         337500.0                   THURSDAY   \n",
      "\n",
      "   HOUR_APPR_PROCESS_START            ...            NAME_SELLER_INDUSTRY  \\\n",
      "0                       15            ...                    Connectivity   \n",
      "1                       11            ...                             XNA   \n",
      "2                       11            ...                             XNA   \n",
      "3                        7            ...                             XNA   \n",
      "4                        9            ...                             XNA   \n",
      "\n",
      "   CNT_PAYMENT  NAME_YIELD_GROUP       PRODUCT_COMBINATION  \\\n",
      "0         12.0            middle  POS mobile with interest   \n",
      "1         36.0        low_action          Cash X-Sell: low   \n",
      "2         12.0              high         Cash X-Sell: high   \n",
      "3         12.0            middle       Cash X-Sell: middle   \n",
      "4         24.0              high         Cash Street: high   \n",
      "\n",
      "   DAYS_FIRST_DRAWING DAYS_FIRST_DUE DAYS_LAST_DUE_1ST_VERSION  DAYS_LAST_DUE  \\\n",
      "0            365243.0          -42.0                     300.0          -42.0   \n",
      "1            365243.0         -134.0                     916.0       365243.0   \n",
      "2            365243.0         -271.0                      59.0       365243.0   \n",
      "3            365243.0         -482.0                    -152.0         -182.0   \n",
      "4                 NaN            NaN                       NaN            NaN   \n",
      "\n",
      "  DAYS_TERMINATION NFLAG_INSURED_ON_APPROVAL  \n",
      "0            -37.0                       0.0  \n",
      "1         365243.0                       1.0  \n",
      "2         365243.0                       1.0  \n",
      "3           -177.0                       1.0  \n",
      "4              NaN                       NaN  \n",
      "\n",
      "[5 rows x 37 columns]\n"
     ]
    }
   ],
   "source": [
    "credit_card_balance = read_check_data(\"./data/previous_application.csv\")"
   ]
  },
  {
   "cell_type": "code",
   "execution_count": 15,
   "metadata": {},
   "outputs": [
    {
     "name": "stdout",
     "output_type": "stream",
     "text": [
      "Training data shape:  (1716428, 17)\n",
      "   SK_ID_CURR  SK_ID_BUREAU CREDIT_ACTIVE CREDIT_CURRENCY  DAYS_CREDIT  \\\n",
      "0      215354       5714462        Closed      currency 1         -497   \n",
      "1      215354       5714463        Active      currency 1         -208   \n",
      "2      215354       5714464        Active      currency 1         -203   \n",
      "3      215354       5714465        Active      currency 1         -203   \n",
      "4      215354       5714466        Active      currency 1         -629   \n",
      "\n",
      "   CREDIT_DAY_OVERDUE  DAYS_CREDIT_ENDDATE  DAYS_ENDDATE_FACT  \\\n",
      "0                   0               -153.0             -153.0   \n",
      "1                   0               1075.0                NaN   \n",
      "2                   0                528.0                NaN   \n",
      "3                   0                  NaN                NaN   \n",
      "4                   0               1197.0                NaN   \n",
      "\n",
      "   AMT_CREDIT_MAX_OVERDUE  CNT_CREDIT_PROLONG  AMT_CREDIT_SUM  \\\n",
      "0                     NaN                   0         91323.0   \n",
      "1                     NaN                   0        225000.0   \n",
      "2                     NaN                   0        464323.5   \n",
      "3                     NaN                   0         90000.0   \n",
      "4                 77674.5                   0       2700000.0   \n",
      "\n",
      "   AMT_CREDIT_SUM_DEBT  AMT_CREDIT_SUM_LIMIT  AMT_CREDIT_SUM_OVERDUE  \\\n",
      "0                  0.0                   NaN                     0.0   \n",
      "1             171342.0                   NaN                     0.0   \n",
      "2                  NaN                   NaN                     0.0   \n",
      "3                  NaN                   NaN                     0.0   \n",
      "4                  NaN                   NaN                     0.0   \n",
      "\n",
      "       CREDIT_TYPE  DAYS_CREDIT_UPDATE  AMT_ANNUITY  \n",
      "0  Consumer credit                -131          NaN  \n",
      "1      Credit card                 -20          NaN  \n",
      "2  Consumer credit                 -16          NaN  \n",
      "3      Credit card                 -16          NaN  \n",
      "4  Consumer credit                 -21          NaN  \n"
     ]
    }
   ],
   "source": [
    "bureau = read_check_data(\"./data/bureau.csv\")"
   ]
  }
 ],
 "metadata": {
  "kernelspec": {
   "display_name": "Python 3",
   "language": "python",
   "name": "python3"
  },
  "language_info": {
   "codemirror_mode": {
    "name": "ipython",
    "version": 3
   },
   "file_extension": ".py",
   "mimetype": "text/x-python",
   "name": "python",
   "nbconvert_exporter": "python",
   "pygments_lexer": "ipython3",
   "version": "3.6.8"
  }
 },
 "nbformat": 4,
 "nbformat_minor": 2
}
